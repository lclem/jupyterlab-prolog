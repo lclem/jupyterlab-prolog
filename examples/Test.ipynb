{
 "cells": [
  {
   "cell_type": "markdown",
   "metadata": {
    "id": 0,
    "summary": true
   },
   "source": [
    "# First\n"
   ]
  },
  {
   "cell_type": "code",
   "execution_count": 4,
   "metadata": {},
   "outputs": [
    {
     "name": "stdout",
     "output_type": "stream",
     "text": [
      "\u001b[31mWarning: /Users/lorenzo/Google Drive/dev/jupyterlab-prolog/examples/test.pl:8:\n",
      "\tSingleton variables: [Y]\n",
      "\u001b[0mdupa\n",
      "\u001b[1mtrue.\u001b[0m"
     ]
    }
   ],
   "source": [
    ":- module(test, [foo/1]).\n",
    "\n",
    "% a comment\n",
    "\n",
    "foo(X) :- X = 2, true.\n",
    "foo(5).\n",
    "\n",
    "foo(Y) :- true.\n",
    "\n",
    "/* hey */\n",
    ":- write(dupa)."
   ]
  },
  {
   "cell_type": "code",
   "execution_count": 14,
   "metadata": {},
   "outputs": [
    {
     "name": "stdout",
     "output_type": "stream",
     "text": [
      "dupa[2,5]\n",
      "\u001b[1mtrue.\u001b[0m"
     ]
    }
   ],
   "source": [
    ":- module(test2, []).\n",
    ":- use_module(test).\n",
    "\n",
    ":- findall(X, foo(X), Xs), write(Xs)."
   ]
  },
  {
   "cell_type": "markdown",
   "metadata": {},
   "source": [
    "# Second"
   ]
  },
  {
   "cell_type": "code",
   "execution_count": null,
   "metadata": {},
   "outputs": [],
   "source": []
  }
 ],
 "metadata": {
  "kernelspec": {
   "display_name": "prolog",
   "language": "prolog",
   "name": "prolog"
  },
  "language_info": {
   "file_extension": ".pl",
   "mimetype": "text/x-prolog",
   "name": "prolog"
  },
  "toc": {
   "base_numbering": 1,
   "nav_menu": {},
   "number_sections": true,
   "sideBar": true,
   "skip_h1_title": false,
   "title_cell": "Table of Contents",
   "title_sidebar": "Contents",
   "toc_cell": false,
   "toc_position": {},
   "toc_section_display": true,
   "toc_window_display": false
  },
  "toc-showcode": false,
  "toc-showmarkdowntxt": true,
  "toc-showtags": true
 },
 "nbformat": 4,
 "nbformat_minor": 4
}
